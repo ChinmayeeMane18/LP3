{
 "cells": [
  {
   "cell_type": "code",
   "execution_count": 14,
   "id": "1d29a8d0",
   "metadata": {},
   "outputs": [],
   "source": [
    "x=2\n",
    "lr=0.01\n",
    "precision=0.000001\n",
    "previous_step_size=1\n",
    "max_iter=10000\n",
    "iters=0\n",
    "gf=lambda x: (x+3) ** 2"
   ]
  },
  {
   "cell_type": "code",
   "execution_count": null,
   "id": "4b7fcaed",
   "metadata": {},
   "outputs": [],
   "source": [
    "while precision<previous_step_size and iters<max_iter:\n",
    "    prev=x\n",
    "    x=x-lr*gf(prev)\n",
    "    previous_step_size=abs(x-prev)\n",
    "    iters+=1\n",
    "    print('iteration:',iters, 'value:',x)\n",
    "    gd.append(x)"
   ]
  },
  {
   "cell_type": "code",
   "execution_count": 16,
   "id": "71d47792",
   "metadata": {},
   "outputs": [
    {
     "name": "stdout",
     "output_type": "stream",
     "text": [
      "local minima: -2.990001240409911\n"
     ]
    }
   ],
   "source": [
    "print('local minima:', x)"
   ]
  },
  {
   "cell_type": "code",
   "execution_count": 7,
   "id": "61ec6cb2",
   "metadata": {},
   "outputs": [],
   "source": [
    "import matplotlib.pyplot as plt"
   ]
  },
  {
   "cell_type": "code",
   "execution_count": 8,
   "id": "c3e19b42",
   "metadata": {},
   "outputs": [],
   "source": [
    "gd=[]"
   ]
  },
  {
   "cell_type": "code",
   "execution_count": 17,
   "id": "872e054c",
   "metadata": {},
   "outputs": [
    {
     "data": {
      "text/plain": [
       "[<matplotlib.lines.Line2D at 0x24ebabf02e0>]"
      ]
     },
     "execution_count": 17,
     "metadata": {},
     "output_type": "execute_result"
    },
    {
     "data": {
      "image/png": "[encoded data removed]",
      "text/plain": [
       "<Figure size 640x480 with 1 Axes>"
      ]
     },
     "metadata": {},
     "output_type": "display_data"
    }
   ],
   "source": [
    "plt.plot(gd)"
   ]
  },
  {
   "cell_type": "code",
   "execution_count": null,
   "id": "85bf0fa8",
   "metadata": {},
   "outputs": [],
   "source": []
  }
 ],
 "metadata": {
  "kernelspec": {
   "display_name": "Python 3 (ipykernel)",
   "language": "python",
   "name": "python3"
  },
  "language_info": {
   "codemirror_mode": {
    "name": "ipython",
    "version": 3
   },
   "file_extension": ".py",
   "mimetype": "text/x-python",
   "name": "python",
   "nbconvert_exporter": "python",
   "pygments_lexer": "ipython3",
   "version": "3.9.13"
  }
 },
 "nbformat": 4,
 "nbformat_minor": 5
}
